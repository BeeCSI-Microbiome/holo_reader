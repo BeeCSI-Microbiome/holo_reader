{
 "cells": [
  {
   "cell_type": "markdown",
   "metadata": {},
   "source": [
    "## Sequence Extraction from HoloBee Database v2016.1"
   ]
  },
  {
   "cell_type": "markdown",
   "metadata": {},
   "source": [
    "Import python modules"
   ]
  },
  {
   "cell_type": "code",
   "execution_count": null,
   "metadata": {},
   "outputs": [],
   "source": [
    "import os\n",
    "import re\n",
    "import Bio.SeqIO as sio\n",
    "import pandas as pd"
   ]
  },
  {
   "cell_type": "markdown",
   "metadata": {},
   "source": [
    "**Add the file path** to the folder containing the .fasta files (HB_Mop_v2016.1.fasta, HB_Bar_v2016.1.fasta)"
   ]
  },
  {
   "cell_type": "code",
   "execution_count": null,
   "metadata": {},
   "outputs": [],
   "source": [
    "input_filenames = os.listdir(path = 'C:/Users/vishwakarmas/Downloads/HB_v2016.1/HB_v2016.1')"
   ]
  },
  {
   "cell_type": "markdown",
   "metadata": {},
   "source": [
    "Below a for loop is being used to perform analysis on any *.fasta* file.\n",
    "1. for loop to perform iterations in the input_filenames list\n",
    "     2. if the elements ends with .fasta file, then\n",
    "         3. create empty list to store data from the upcoming for loops\n",
    "         4. parse the fasta file through the parse function from the SeqIO\n",
    "         \n",
    "         5. for \n",
    "\n",
    "Print the number of reads in total in each file\n",
    "print(modified names + str(len(seq_id))"
   ]
  },
  {
   "cell_type": "code",
   "execution_count": null,
   "metadata": {},
   "outputs": [],
   "source": [
    "for input_file in input_filenames:\n",
    "    if re.match(r\"(^.*.fasta)$\", input_file, flags = re.IGNORECASE):\n",
    "        seq_de = []\n",
    "        info_type = []\n",
    "        \n",
    "        seq_id = []\n",
    "        seq_seq = []\n",
    "        seq_info = []\n",
    "        \n",
    "        seq_list_obj = sio.parse(input_file, \"fasta\")\n",
    "        \n",
    "        for seq in seq_list_obj:\n",
    "            seq_id.append(seq.id)\n",
    "            seq_de.append(seq.description)\n",
    "        for seq in seq_de:\n",
    "            seq_de_split = seq.split(\"|\")\n",
    "            info_type = seq_de_split[(len(seq_de_split) - 1)].split(\",\")\n",
    "            seq_info.append(info_type[0].strip())\n",
    "            if len(info_type) > 1:\n",
    "                seq_seq.append(info_type[1].strip())\n",
    "            elif len(info_type) == 1:\n",
    "                seq_seq.append(\"-\")\n",
    "            else:\n",
    "                seq_seq.append(\"Description Unknown\")\n",
    "\n",
    "        add_title = \"_Sequence_Info_Jup.csv\"\n",
    "        firstname = input_file.split(\".\")\n",
    "        \n",
    "        modified_name = []\n",
    "        modified_name = firstname[0] + add_title\n",
    "        print(modified_name + \"  : Total Number of reads present: \" + str(len(seq_id)))\n",
    "        \n",
    "        df = pd.DataFrame(data = {\"Sequence_ID\": seq_id, \n",
    "                                  \"Description\": seq_info,\n",
    "                                  \"Sequencing\": seq_seq})\n",
    "\n",
    "        df.to_csv(modified_name, sep = ',', index = False)\n",
    "        \n",
    "        seq_list_obj.close()"
   ]
  },
  {
   "cell_type": "markdown",
   "metadata": {},
   "source": [
    "### View preliminary information\n",
    "1. Add a column to the data from that match the pattern\n",
    "2. Create a count of number of rows with that data\n",
    "3. stringr::word(holobee$Description,1,2) unique(), basically select the first 2 words in the column \"Description\"\n",
    "4. Create an exception for Slow Bee Virus, because Slow Bee wouldn't make sense\n",
    "5. create a visulaization\n",
    "\n",
    "6. Types of read present in the sample\n",
    "7. Merge, Count data with the types of read in a shared bar plot\n"
   ]
  },
  {
   "cell_type": "markdown",
   "metadata": {},
   "source": [
    "List files present in the path"
   ]
  },
  {
   "cell_type": "code",
   "execution_count": null,
   "metadata": {
    "scrolled": true
   },
   "outputs": [],
   "source": [
    "import os\n",
    "import re\n",
    "import pandas as pd\n",
    "\n",
    "import matplotlib.pyplot as plt\n",
    "file_path = os.listdir(path = 'C:/Users/vishwakarmas/Downloads/HB_v2016.1/HB_v2016.1')\n",
    "print(file_path)"
   ]
  },
  {
   "cell_type": "markdown",
   "metadata": {},
   "source": [
    "View the output from the dataframe with ends with the *_Sequence_Info_Jup.csv*"
   ]
  },
  {
   "cell_type": "code",
   "execution_count": null,
   "metadata": {},
   "outputs": [],
   "source": [
    "for files in file_path:\n",
    "    if re.match(r\"(^.*_Sequence_Info_Jup.csv)$\", files, flags = re.IGNORECASE):\n",
    "        print(files)"
   ]
  },
  {
   "cell_type": "markdown",
   "metadata": {},
   "source": [
    "Select the file, which has the file format"
   ]
  },
  {
   "cell_type": "code",
   "execution_count": null,
   "metadata": {},
   "outputs": [],
   "source": [
    "vis_info = pd.read_csv(\"HB_Mop_v2016_Sequence_Info_Jup.csv\")"
   ]
  },
  {
   "cell_type": "markdown",
   "metadata": {},
   "source": [
    "Pull the data from the \"vis_info\" column \"Description\" and create a dataframe and name the column to \"Full_des\""
   ]
  },
  {
   "cell_type": "code",
   "execution_count": null,
   "metadata": {},
   "outputs": [],
   "source": [
    "des_re = pd.DataFrame(vis_info['Description']).rename(columns = {0 : \"Full_des\"})"
   ]
  },
  {
   "cell_type": "markdown",
   "metadata": {},
   "source": [
    "Split the values in the description into 3 elements by empty spaces"
   ]
  },
  {
   "cell_type": "code",
   "execution_count": null,
   "metadata": {
    "scrolled": true
   },
   "outputs": [],
   "source": [
    "t2 = des_re['Full_des'].str.split(\" \", n = 2)\n",
    "print(t2)"
   ]
  },
  {
   "cell_type": "markdown",
   "metadata": {},
   "source": [
    "Use a for loop to concatenate the first 2 elements and append it to the empty list"
   ]
  },
  {
   "cell_type": "code",
   "execution_count": null,
   "metadata": {},
   "outputs": [],
   "source": [
    "t2_loc = t2.to_list()\n",
    "\n",
    "list_element = []\n",
    "item_list = []\n",
    "for element in t2_loc:\n",
    "    list_element.append(element)\n",
    "    el_1 = element[0]\n",
    "    el_2 = element[1]\n",
    "    item = el_1 + \" \" + el_2\n",
    "    item_list.append(item)"
   ]
  },
  {
   "cell_type": "markdown",
   "metadata": {},
   "source": [
    "View the list of the first 2 words of the description"
   ]
  },
  {
   "cell_type": "code",
   "execution_count": null,
   "metadata": {},
   "outputs": [],
   "source": [
    "#print(item_list)"
   ]
  },
  {
   "cell_type": "markdown",
   "metadata": {},
   "source": [
    "Create a new column with the data from the \"item_list\" list to the \"des_re\" dataframe, creating a dataframe with 2 columns."
   ]
  },
  {
   "cell_type": "code",
   "execution_count": null,
   "metadata": {},
   "outputs": [],
   "source": [
    "df = pd.concat([des_re, pd.Series(item_list, name = \"Short_des\")], axis = 1)"
   ]
  },
  {
   "cell_type": "markdown",
   "metadata": {},
   "source": [
    "A brief overview of the first 2 words from the description present in the sequence"
   ]
  },
  {
   "cell_type": "code",
   "execution_count": null,
   "metadata": {},
   "outputs": [],
   "source": [
    "df2 = pd.Series(item_list, name = \"Short_des\").value_counts()\n",
    "print(df2)"
   ]
  },
  {
   "cell_type": "markdown",
   "metadata": {},
   "source": [
    "View bar plot for the data created from the first 2 words from the description present in the sequencing file"
   ]
  },
  {
   "cell_type": "code",
   "execution_count": null,
   "metadata": {},
   "outputs": [],
   "source": [
    "plt.bar(df2.index.values, height = df2, width = 0.9, color = \"red\")"
   ]
  }
 ],
 "metadata": {
  "kernelspec": {
   "display_name": "Python 3",
   "language": "python",
   "name": "python3"
  },
  "language_info": {
   "codemirror_mode": {
    "name": "ipython",
    "version": 3
   },
   "file_extension": ".py",
   "mimetype": "text/x-python",
   "name": "python",
   "nbconvert_exporter": "python",
   "pygments_lexer": "ipython3",
   "version": "3.7.6"
  }
 },
 "nbformat": 4,
 "nbformat_minor": 4
}
