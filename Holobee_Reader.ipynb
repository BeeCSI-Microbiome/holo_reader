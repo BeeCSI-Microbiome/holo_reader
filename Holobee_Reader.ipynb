{
 "cells": [
  {
   "cell_type": "markdown",
   "metadata": {},
   "source": [
    "# Sequence Extraction from HoloBee Database v2016.1"
   ]
  },
  {
   "cell_type": "markdown",
   "metadata": {},
   "source": [
    "Import python packages"
   ]
  },
  {
   "cell_type": "code",
   "execution_count": null,
   "metadata": {},
   "outputs": [],
   "source": [
    "import os\n",
    "import re\n",
    "import Bio.SeqIO as sio\n",
    "import pandas as pd"
   ]
  },
  {
   "cell_type": "markdown",
   "metadata": {},
   "source": [
    "In the function *os.listdir()*, add the file path to the folder containing the **.fasta** files *(HB_Mop_v2016.1.fasta, HB_Bar_v2016.1.fasta)*"
   ]
  },
  {
   "cell_type": "code",
   "execution_count": null,
   "metadata": {},
   "outputs": [],
   "source": [
    "input_filenames = os.listdir(path = 'C:/Users/vishwakarmas/Downloads/HB_v2016.1/HB_v2016.1')\n",
    "input_name = [input_file for input_file in input_filenames if re.match(r\"(^.*.fasta)$\", input_file, flags = re.IGNORECASE)]\n",
    "print(input_name)"
   ]
  },
  {
   "cell_type": "markdown",
   "metadata": {},
   "source": [
    "A *for* loop is used to perform iterations to the files that end with **.fasta** and pull Descriptions from *sequence id* using a parse function from *Bio.SeqIO.parse()*"
   ]
  },
  {
   "cell_type": "code",
   "execution_count": null,
   "metadata": {},
   "outputs": [],
   "source": [
    "def split_seq(sequence):\n",
    "    return sequence.split(\"|\")\n",
    "\n",
    "def split_comma(sequence):\n",
    "    return sequence[(len(sequence) - 1)].split(\",\")"
   ]
  },
  {
   "cell_type": "code",
   "execution_count": null,
   "metadata": {},
   "outputs": [],
   "source": [
    "for input_file in input_name:\n",
    "    seq_list_obj = sio.parse(input_file, \"fasta\")\n",
    "    seq_de = [item.description for item in seq_list_obj]\n",
    "    \n",
    "    seq_de_split = [split_seq(seq) for seq in seq_de]\n",
    "    info_type = [split_comma(seq) for seq in seq_de_split]\n",
    "    seq_info = [seq[0].strip() for seq in info_type]\n",
    "    \n",
    "    seq_seq = [item[1].strip() if len(item) > 1 else \"-\" if len(item) == 1 else \"Description Unknown\" for item in info_type]\n",
    "\n",
    "    seq_id = [seq.split(\" \")[0] for seq in seq_de]\n",
    "    \n",
    "    df = pd.DataFrame(data = {\"Sequence_ID\": seq_id, \"Description\": seq_info, \"Sequencing\": seq_seq})\n",
    "        \n",
    "    output_name = str(input_file.split(\".\")[0]) + \"_Sequence_Info_Jupyter.csv\"\n",
    "    print(output_name)\n",
    "        \n",
    "    df.to_csv(output_name, sep = ',', index = False)\n",
    "\n",
    "    seq_list_obj.close()"
   ]
  },
  {
   "cell_type": "markdown",
   "metadata": {},
   "source": [
    "# Using plotly"
   ]
  },
  {
   "cell_type": "markdown",
   "metadata": {},
   "source": [
    "Import packages"
   ]
  },
  {
   "cell_type": "code",
   "execution_count": null,
   "metadata": {},
   "outputs": [],
   "source": [
    "import os\n",
    "import re\n",
    "import pandas as pd\n",
    "import plotly.express as px"
   ]
  },
  {
   "cell_type": "markdown",
   "metadata": {},
   "source": [
    "Find the files that were created from the above data manipulation"
   ]
  },
  {
   "cell_type": "code",
   "execution_count": null,
   "metadata": {},
   "outputs": [],
   "source": [
    "file_path = os.listdir(path = 'C:/Users/vishwakarmas/Downloads/HB_v2016.1/HB_v2016.1/')\n",
    "files = [input_file for input_file in file_path if re.match(r\"(^.*_Sequence_Info.csv)$\", input_file, flags = re.IGNORECASE)]\n",
    "print(files)"
   ]
  },
  {
   "cell_type": "markdown",
   "metadata": {},
   "source": [
    "Select a csv file from the output above to read."
   ]
  },
  {
   "cell_type": "code",
   "execution_count": null,
   "metadata": {},
   "outputs": [],
   "source": [
    "vis_info = pd.read_csv(\"HB_Bar_v2016_Sequence_Info.csv\")"
   ]
  },
  {
   "cell_type": "markdown",
   "metadata": {},
   "source": [
    "Split the *Description* column into 3 elements and concatentate the first two elements. This will help create a brief overview of the species in the .csv file. Add the output into the *vis_info* dataframe."
   ]
  },
  {
   "cell_type": "code",
   "execution_count": null,
   "metadata": {},
   "outputs": [],
   "source": [
    "vis_info.insert(2, \"Group\", value = [(element[0] + \" \" + element[1]) for element in vis_info['Description'].str.split(\" \", n = 2).to_list()])"
   ]
  },
  {
   "cell_type": "markdown",
   "metadata": {},
   "source": [
    "Create a Series with the grouped counts"
   ]
  },
  {
   "cell_type": "code",
   "execution_count": null,
   "metadata": {},
   "outputs": [],
   "source": [
    "group_counts = vis_info['Group'].value_counts()"
   ]
  },
  {
   "cell_type": "markdown",
   "metadata": {},
   "source": [
    "Create a plotly figure"
   ]
  },
  {
   "cell_type": "code",
   "execution_count": null,
   "metadata": {},
   "outputs": [],
   "source": [
    "fig = px.bar(group_counts, x = group_counts.index, y = group_counts, \n",
    "             title=\"Frequency of Sequences Present\",\n",
    "             labels={\n",
    "                     \"y\": \"Frequency\",\n",
    "                     \"index\": \"Gene Description\"\n",
    "             },\n",
    "             height=500)"
   ]
  },
  {
   "cell_type": "markdown",
   "metadata": {},
   "source": [
    "***The plot may have a large number of x values, in order to see all the values, use'pan'.***"
   ]
  },
  {
   "cell_type": "code",
   "execution_count": null,
   "metadata": {},
   "outputs": [],
   "source": [
    "fig.show()"
   ]
  },
  {
   "cell_type": "markdown",
   "metadata": {},
   "source": [
    "# View table"
   ]
  },
  {
   "cell_type": "markdown",
   "metadata": {},
   "source": [
    "Import packages"
   ]
  },
  {
   "cell_type": "code",
   "execution_count": null,
   "metadata": {},
   "outputs": [],
   "source": [
    "import plotly\n",
    "import plotly.figure_factory as ff"
   ]
  },
  {
   "cell_type": "markdown",
   "metadata": {},
   "source": [
    "Create a new dataframe by transferring the index from the *group_df* **Series** into a new column."
   ]
  },
  {
   "cell_type": "code",
   "execution_count": null,
   "metadata": {},
   "outputs": [],
   "source": [
    "group_df = group_counts.to_frame().reset_index()\n",
    "table = ff.create_table(group_df)"
   ]
  },
  {
   "cell_type": "markdown",
   "metadata": {},
   "source": [
    "**View the table.**"
   ]
  },
  {
   "cell_type": "code",
   "execution_count": null,
   "metadata": {},
   "outputs": [],
   "source": [
    "plotly.offline.iplot(table, filename='jupyter-table1')"
   ]
  },
  {
   "cell_type": "markdown",
   "metadata": {},
   "source": [
    "To view in alphabetical order, run the following:"
   ]
  },
  {
   "cell_type": "code",
   "execution_count": null,
   "metadata": {},
   "outputs": [],
   "source": [
    "table_sorted = ff.create_table(group_df.sort_values(by = ['index']))"
   ]
  },
  {
   "cell_type": "code",
   "execution_count": null,
   "metadata": {},
   "outputs": [],
   "source": [
    "plotly.offline.iplot(table_sorted, filename='jupyter-table1')"
   ]
  }
 ],
 "metadata": {
  "kernelspec": {
   "display_name": "Python 3",
   "language": "python",
   "name": "python3"
  },
  "language_info": {
   "codemirror_mode": {
    "name": "ipython",
    "version": 3
   },
   "file_extension": ".py",
   "mimetype": "text/x-python",
   "name": "python",
   "nbconvert_exporter": "python",
   "pygments_lexer": "ipython3",
   "version": "3.7.6"
  }
 },
 "nbformat": 4,
 "nbformat_minor": 4
}
