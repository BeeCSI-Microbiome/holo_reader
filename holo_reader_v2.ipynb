{
 "cells": [
  {
   "cell_type": "markdown",
   "metadata": {},
   "source": [
    "## Sequence Extraction from HoloBee Database v2016.1"
   ]
  },
  {
   "cell_type": "markdown",
   "metadata": {},
   "source": [
    "Import python modules"
   ]
  },
  {
   "cell_type": "code",
   "execution_count": null,
   "metadata": {},
   "outputs": [],
   "source": [
    "import os\n",
    "import re\n",
    "import Bio.SeqIO as sio\n",
    "import pandas as pd"
   ]
  },
  {
   "cell_type": "markdown",
   "metadata": {},
   "source": [
    "In the function *os.listdir()*, add the file path to the folder containing the **.fasta** files *(HB_Mop_v2016.1.fasta, HB_Bar_v2016.1.fasta)*"
   ]
  },
  {
   "cell_type": "code",
   "execution_count": null,
   "metadata": {},
   "outputs": [],
   "source": [
    "input_filenames = os.listdir(path = 'C:/Users/vishwakarmas/Downloads/HB_v2016.1/HB_v2016.1')\n",
    "input_name = [input_file for input_file in input_filenames if re.match(r\"(^.*.fasta)$\", input_file, flags = re.IGNORECASE)]\n",
    "print(input_name)"
   ]
  },
  {
   "cell_type": "markdown",
   "metadata": {},
   "source": [
    "A *for* loop is used to perform iterations to the files that end with **.fasta** and pull Descriptions from *sequence id* using a parse function from *Bio.SeqIO.parse()*"
   ]
  },
  {
   "cell_type": "code",
   "execution_count": null,
   "metadata": {},
   "outputs": [],
   "source": [
    "def split_seq(sequence):\n",
    "    return sequence.split(\"|\")\n",
    "\n",
    "def split_comma(sequence):\n",
    "    return sequence[(len(sequence) - 1)].split(\",\")"
   ]
  },
  {
   "cell_type": "code",
   "execution_count": null,
   "metadata": {},
   "outputs": [],
   "source": [
    "for input_file in input_name:\n",
    "    seq_list_obj = sio.parse(input_file, \"fasta\")\n",
    "    seq_de = [item.description for item in seq_list_obj]\n",
    "    \n",
    "    seq_de_split = [split_seq(seq) for seq in seq_de]\n",
    "    info_type = [split_comma(seq) for seq in seq_de_split]\n",
    "    seq_info = [seq[0].strip() for seq in info_type]\n",
    "    \n",
    "    seq_seq = [item[1].strip() if len(item) > 1 else \"-\" if len(item) == 1 else \"Description Unknown\" for item in info_type]\n",
    "\n",
    "    seq_id = [seq.split(\" \")[0] for seq in seq_de]\n",
    "    \n",
    "    df = pd.DataFrame(data = {\"Sequence_ID\": seq_id, \"Description\": seq_info, \"Sequencing\": seq_seq})\n",
    "        \n",
    "    output_name = str(input_file.split(\".\")[0]) + \"_Sequence_Info_Jupyter.csv\"\n",
    "    print(output_name)\n",
    "        \n",
    "    df.to_csv(output_name, sep = ',', index = False)\n",
    "\n",
    "    seq_list_obj.close()"
   ]
  },
  {
   "cell_type": "markdown",
   "metadata": {},
   "source": [
    "### View preliminary information\n",
    "Using the output file created, the first 2 words from the Description column is used to create a bar plot"
   ]
  },
  {
   "cell_type": "markdown",
   "metadata": {},
   "source": [
    "Import python modules and view files present in the file path for the output file *(_Sequence_Info_Jup.csv)*"
   ]
  },
  {
   "cell_type": "code",
   "execution_count": null,
   "metadata": {
    "scrolled": true
   },
   "outputs": [],
   "source": [
    "import os\n",
    "import re\n",
    "import pandas as pd\n",
    "import matplotlib.pyplot as plt\n",
    "\n",
    "file_path = os.listdir(path = 'C:/Users/vishwakarmas/Downloads/HB_v2016.1/HB_v2016.1')"
   ]
  },
  {
   "cell_type": "markdown",
   "metadata": {},
   "source": [
    "From the list of the files present in the file path, filter the files with the following pattern: *_Sequence_Info_Jup.csv*"
   ]
  },
  {
   "cell_type": "code",
   "execution_count": null,
   "metadata": {},
   "outputs": [],
   "source": [
    "input_name_graph = [input_file for input_file in file_path if re.match(r\"(^.*_Sequence_Info_Jup.csv)$\", input_file, flags = re.IGNORECASE)]\n",
    "print(input_name_graph)"
   ]
  },
  {
   "cell_type": "markdown",
   "metadata": {},
   "source": [
    "Enter a file from the list above in the **pd.read_csv(\"*file_name.csv*\")** function"
   ]
  },
  {
   "cell_type": "code",
   "execution_count": null,
   "metadata": {},
   "outputs": [],
   "source": [
    "vis_info = pd.read_csv(\"HB_Mop_v2016_Sequence_Info_Jup.csv\")"
   ]
  },
  {
   "cell_type": "markdown",
   "metadata": {},
   "source": [
    "Pull the data from the *vis_info* column *Description* and create a dataframe and name the column to *Full_des*"
   ]
  },
  {
   "cell_type": "code",
   "execution_count": null,
   "metadata": {},
   "outputs": [],
   "source": [
    "des_re = pd.DataFrame(vis_info['Description'].unique()).rename(columns = {0 : \"Full_des\"})\n",
    "print(des_re)"
   ]
  },
  {
   "cell_type": "markdown",
   "metadata": {},
   "source": [
    "Split the values in the description into 3 elements by empty spaces"
   ]
  },
  {
   "cell_type": "code",
   "execution_count": null,
   "metadata": {
    "scrolled": true
   },
   "outputs": [],
   "source": [
    "t2 = des_re['Full_des'].str.split(\" \", n = 2)\n",
    "print(t2)"
   ]
  },
  {
   "cell_type": "markdown",
   "metadata": {},
   "source": [
    "Use a for loop to concatenate the first 2 elements and append it to the empty list"
   ]
  },
  {
   "cell_type": "code",
   "execution_count": null,
   "metadata": {},
   "outputs": [],
   "source": [
    "t2_loc = t2.to_list()\n",
    "\n",
    "list_element = []\n",
    "item_list = []\n",
    "for element in t2_loc:\n",
    "    list_element.append(element)\n",
    "    el_1 = element[0]\n",
    "    el_2 = element[1]\n",
    "    item = el_1 + \" \" + el_2\n",
    "    item_list.append(item)"
   ]
  },
  {
   "cell_type": "markdown",
   "metadata": {},
   "source": [
    "View the list of the first 2 words of the description"
   ]
  },
  {
   "cell_type": "code",
   "execution_count": null,
   "metadata": {},
   "outputs": [],
   "source": [
    "#print(item_list)"
   ]
  },
  {
   "cell_type": "markdown",
   "metadata": {},
   "source": [
    "Create a new column with the data from the \"item_list\" list to the \"des_re\" dataframe, creating a dataframe with 2 columns."
   ]
  },
  {
   "cell_type": "code",
   "execution_count": null,
   "metadata": {},
   "outputs": [],
   "source": [
    "df = pd.concat([des_re, pd.Series(item_list, name = \"Short_des\")], axis = 1)"
   ]
  },
  {
   "cell_type": "markdown",
   "metadata": {},
   "source": [
    "A brief overview of the first 2 words from the description present in the sequence"
   ]
  },
  {
   "cell_type": "code",
   "execution_count": null,
   "metadata": {},
   "outputs": [],
   "source": [
    "df2 = pd.Series(item_list, name = \"Short_des\").value_counts()\n",
    "print(df2)"
   ]
  },
  {
   "cell_type": "markdown",
   "metadata": {},
   "source": [
    "View bar plot for the data created from the first 2 words from the description present in the sequencing file"
   ]
  },
  {
   "cell_type": "code",
   "execution_count": null,
   "metadata": {},
   "outputs": [],
   "source": [
    "plt.bar(df2.index.values, height = df2, width = 0.9, color = \"red\")"
   ]
  }
 ],
 "metadata": {
  "kernelspec": {
   "display_name": "Python 3",
   "language": "python",
   "name": "python3"
  },
  "language_info": {
   "codemirror_mode": {
    "name": "ipython",
    "version": 3
   },
   "file_extension": ".py",
   "mimetype": "text/x-python",
   "name": "python",
   "nbconvert_exporter": "python",
   "pygments_lexer": "ipython3",
   "version": "3.7.6"
  }
 },
 "nbformat": 4,
 "nbformat_minor": 4
}
